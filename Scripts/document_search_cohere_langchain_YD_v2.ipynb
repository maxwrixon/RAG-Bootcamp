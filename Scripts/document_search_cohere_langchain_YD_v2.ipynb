{
 "cells": [
  {
   "cell_type": "markdown",
   "id": "3d86f6cd",
   "metadata": {},
   "source": [
    "# Cohere Document Search with Langchain"
   ]
  },
  {
   "cell_type": "markdown",
   "id": "4168e6b6",
   "metadata": {},
   "source": [
    "This example shows how to use the Python [langchain](https://python.langchain.com/docs/get_started/introduction) library to run a text-generation request against [Cohere's](https://cohere.com/) API, then augment that request using the text stored in a collection of local PDF documents.\n",
    "\n",
    "**Requirements:**\n",
    "- You will need an access key to Cohere's API key, which you can sign up for at (https://dashboard.cohere.com/welcome/login). A free trial account will suffice, but will be limited to a small number of requests.\n",
    "- After obtaining this key, store it in plain text in your home in directory in the `~/.cohere.key` file.\n",
    "- (Optional) Upload some pdf files into the `source_documents` subfolder under this notebook. We have already provided some sample pdfs, but feel free to replace these with your own."
   ]
  },
  {
   "cell_type": "markdown",
   "id": "22e4da1f",
   "metadata": {},
   "source": [
    "## Set up the RAG workflow environment"
   ]
  },
  {
   "cell_type": "markdown",
   "id": "3be2ca68",
   "metadata": {},
   "source": [
    "pip install langchain"
   ]
  },
  {
   "cell_type": "markdown",
   "id": "fbb739ab",
   "metadata": {},
   "source": [
    "pip install --upgrade pip setuptools wheel"
   ]
  },
  {
   "cell_type": "markdown",
   "id": "628e1e2a",
   "metadata": {},
   "source": [
    "pip install \"blosc2~=2.0.0\" \"cython>=0.29.21\""
   ]
  },
  {
   "cell_type": "markdown",
   "id": "7f576c68",
   "metadata": {},
   "source": [
    "pip install \"black>=22.3.0\""
   ]
  },
  {
   "cell_type": "code",
   "execution_count": 1,
   "id": "2f637730",
   "metadata": {},
   "outputs": [],
   "source": [
    "from getpass import getpass\n",
    "import os\n",
    "from pathlib import Path\n",
    "\n",
    "from langchain.chains import RetrievalQA\n",
    "from langchain.chat_models import ChatCohere\n",
    "from langchain.document_loaders import TextLoader\n",
    "from langchain.document_loaders.pdf import PyPDFDirectoryLoader\n",
    "from langchain.embeddings import HuggingFaceBgeEmbeddings\n",
    "from langchain.llms import Cohere\n",
    "from langchain.retrievers import ContextualCompressionRetriever\n",
    "from langchain.retrievers.document_compressors import CohereRerank\n",
    "from langchain.schema import HumanMessage, SystemMessage\n",
    "from langchain.text_splitter import RecursiveCharacterTextSplitter\n",
    "from langchain.vectorstores import FAISS"
   ]
  },
  {
   "cell_type": "markdown",
   "id": "12ecf9ac",
   "metadata": {},
   "source": [
    "Set up some helper functions:"
   ]
  },
  {
   "cell_type": "code",
   "execution_count": 2,
   "id": "dd4e2417",
   "metadata": {},
   "outputs": [],
   "source": [
    "def pretty_print_docs(docs):\n",
    "    print(\n",
    "        f\"\\n{'-' * 100}\\n\".join(\n",
    "            [f\"Document {i+1}:\\n\\n\" + d.page_content for i, d in enumerate(docs)]\n",
    "        )\n",
    "    )"
   ]
  },
  {
   "cell_type": "markdown",
   "id": "d9edd103",
   "metadata": {},
   "source": [
    "Make sure other necessary items are in place:"
   ]
  },
  {
   "cell_type": "code",
   "execution_count": 3,
   "id": "74b61e4f",
   "metadata": {},
   "outputs": [
    {
     "name": "stdout",
     "output_type": "stream",
     "text": [
      "ERROR: You must have a Cohere API key available in your home directory at ~/.cohere.key\n",
      "ERROR: The ./source_documents subfolder must contain at least one .pdf file\n"
     ]
    }
   ],
   "source": [
    "try:\n",
    "    os.environ[\"COHERE_API_KEY\"] = open(Path.home() / \".cohere.key\", \"r\").read().strip()\n",
    "except Exception:\n",
    "    print(f\"ERROR: You must have a Cohere API key available in your home directory at ~/.cohere.key\")\n",
    "\n",
    "# Look for the source_documents folder and make sure there is at least 1 pdf file here\n",
    "contains_pdf = False\n",
    "directory_path = \"./source_documents\"\n",
    "if not os.path.exists(directory_path):\n",
    "    print(f\"ERROR: The {directory_path} subfolder must exist under this notebook\")\n",
    "for filename in os.listdir(directory_path):\n",
    "    contains_pdf = True if \".pdf\" in filename else contains_pdf\n",
    "if not contains_pdf:\n",
    "    print(f\"ERROR: The {directory_path} subfolder must contain at least one .pdf file\")"
   ]
  },
  {
   "cell_type": "markdown",
   "id": "1e558afb",
   "metadata": {},
   "source": [
    "## Start with a basic generation request without RAG augmentation\n",
    "\n",
    "Let's start by asking the Cohere LLM a difficult, domain-specific question we don't expect it to have an answer to. A simple question like \"*What is the capital of France?*\" is not a good question here, because that's basic knowledge that we expect the LLM to know.\n",
    "\n",
    "Instead, we want to ask it a question that is very domain-specific that it won't know the answer to. A good example would an obscure detail buried deep within a company's annual report. For example:\n",
    "\n",
    "\"*How many Vector scholarships in AI were awarded in 2022?*\""
   ]
  },
  {
   "cell_type": "code",
   "execution_count": 4,
   "id": "6133a928",
   "metadata": {},
   "outputs": [],
   "source": [
    "query = \"What is IT Salary in Vietnam?\""
   ]
  },
  {
   "cell_type": "markdown",
   "id": "358a22c5",
   "metadata": {},
   "source": [
    "## Now send the query to Cohere"
   ]
  },
  {
   "cell_type": "markdown",
   "id": "0f9a5de7",
   "metadata": {},
   "source": [
    "pip install cohere"
   ]
  },
  {
   "cell_type": "code",
   "execution_count": 5,
   "id": "15299021",
   "metadata": {},
   "outputs": [
    {
     "name": "stdout",
     "output_type": "stream",
     "text": [
      "Result: \n",
      "\n",
      " A salary in Vietnam is the regular payment paid or provided to employees by an employer in return for work done. In Vietnam, salaries are typically paid on a monthly basis and can vary widely depending on the type of work, industry, and level of experience\n"
     ]
    }
   ],
   "source": [
    "import cohere\n",
    "\n",
    "# Replace 'your_cohere_api_key_here' with your actual Cohere API key\n",
    "cohere_api_key = 'ht9CB7BKp1gXtE9RSGbwCplCOfTnwysPj2misv2y'\n",
    "\n",
    "# Initialize the Cohere client\n",
    "co = cohere.Client(api_key=cohere_api_key)\n",
    "\n",
    "# Assuming you want to use the generate function, replace \"your query here\" with your actual prompt\n",
    "query = \"What is a salary in Vietnam?\"  # Replace this with your actual query or prompt\n",
    "\n",
    "# Use the 'co' client to call the generate function\n",
    "response = co.generate(prompt=query, max_tokens=50)\n",
    "\n",
    "# Access the first generation's text and print it\n",
    "result = response.generations[0].text\n",
    "print(f\"Result: \\n\\n{result}\")\n",
    "\n"
   ]
  },
  {
   "cell_type": "markdown",
   "id": "8f6e41d2",
   "metadata": {},
   "source": [
    "llm = Cohere()\n",
    "result = llm(query)\n",
    "print(f\"Result: \\n\\n{result}\")"
   ]
  },
  {
   "cell_type": "markdown",
   "id": "0255ea68",
   "metadata": {},
   "source": [
    "## Ingestion: Load and store the documents from source_documents"
   ]
  },
  {
   "cell_type": "markdown",
   "id": "ba9d0304",
   "metadata": {},
   "source": [
    "Start by reading in all the PDF files from `source_documents`, break them up into smaller digestible chunks, then encode them as vector embeddings."
   ]
  },
  {
   "cell_type": "markdown",
   "id": "aa67050b",
   "metadata": {},
   "source": [
    "import os\n",
    "\n",
    "current_working_directory = os.getcwd()\n",
    "print(f\"Current Working Directory: {current_working_directory}\")\n"
   ]
  },
  {
   "cell_type": "markdown",
   "id": "3894580a",
   "metadata": {},
   "source": [
    "pip install pypdf\n"
   ]
  },
  {
   "cell_type": "markdown",
   "id": "26cf14c5",
   "metadata": {},
   "source": [
    "import torch\n",
    "\n",
    "# Check if CUDA is available\n",
    "print(torch.cuda.is_available())\n",
    "\n",
    "# If CUDA is available, print the version and available GPUs\n",
    "if torch.cuda.is_available():\n",
    "    print(torch.version.cuda)\n",
    "    print(torch.cuda.device_count())\n",
    "    print(torch.cuda.get_device_name(0))\n",
    "\n"
   ]
  },
  {
   "cell_type": "markdown",
   "id": "4abd9f41",
   "metadata": {},
   "source": [
    "conda install pytorch torchvision torchaudio cudatoolkit=11.3 -c pytorch\n"
   ]
  },
  {
   "cell_type": "markdown",
   "id": "340d83aa",
   "metadata": {},
   "source": [
    "pip install torch torchvision torchaudio --extra-index-url https://download.pytorch.org/whl/cu111\n"
   ]
  },
  {
   "cell_type": "code",
   "execution_count": 6,
   "id": "999d1a6b",
   "metadata": {},
   "outputs": [
    {
     "name": "stdout",
     "output_type": "stream",
     "text": [
      "Number of source materials: 181\n"
     ]
    }
   ],
   "source": [
    "\n",
    "# Define the path to your directory containing the PDF files\n",
    "directory_path = r'C:\\Users\\yulia\\Desktop\\RAG BOOTCAMP\\Document_search\\RAG_source_documents'\n",
    "\n",
    "# Now, you can use `directory_path` with the loader\n",
    "loader = PyPDFDirectoryLoader(directory_path)\n",
    "docs = loader.load()\n",
    "print(f\"Number of source materials: {len(docs)}\")\n",
    "\n"
   ]
  },
  {
   "cell_type": "markdown",
   "id": "4a450254",
   "metadata": {},
   "source": [
    "#Check CUDA Availability in PyTorch:\n",
    "import torch\n",
    "print(torch.cuda.is_available())\n"
   ]
  },
  {
   "cell_type": "markdown",
   "id": "b12a35c6",
   "metadata": {},
   "source": [
    "#If False, do the following steps:\n",
    "#1.Reinstall PyTorch:\n",
    "!pip install torch torchvision torchaudio -f https://download.pytorch.org/whl/cu112\n"
   ]
  },
  {
   "cell_type": "markdown",
   "id": "5a031acb",
   "metadata": {},
   "source": [
    "#2. Verify the installation\n",
    "import torch\n",
    "\n",
    "print(torch.__version__)\n",
    "print(torch.cuda.is_available())\n"
   ]
  },
  {
   "cell_type": "markdown",
   "id": "b272f1b1",
   "metadata": {},
   "source": [
    "# Load the pdfs\n",
    "loader = PyPDFDirectoryLoader(directory_path)\n",
    "docs = loader.load()\n",
    "print(f\"Number of source materials: {len(docs)}\")\n",
    "\n",
    "# Split the documents into smaller chunks\n",
    "text_splitter = RecursiveCharacterTextSplitter(chunk_size=500, chunk_overlap=100)\n",
    "chunks = text_splitter.split_documents(docs)\n",
    "print(f\"Number of text chunks: {len(chunks)}\")\n",
    "\n",
    "# Define the embeddings model\n",
    "model_name = \"BAAI/bge-small-en-v1.5\"\n",
    "encode_kwargs = {'normalize_embeddings': True} # set True to compute cosine similarity\n",
    "\n",
    "print(f\"Setting up the embeddings model...\")\n",
    "embeddings = HuggingFaceBgeEmbeddings(\n",
    "    model_name=model_name,\n",
    "    model_kwargs={'device': 'cuda'},\n",
    "    encode_kwargs=encode_kwargs\n",
    ")\n",
    "\n",
    "print(f\"Done\")"
   ]
  },
  {
   "cell_type": "code",
   "execution_count": 10,
   "id": "3c1fd6a3",
   "metadata": {},
   "outputs": [
    {
     "name": "stdout",
     "output_type": "stream",
     "text": [
      "Number of source materials: 181\n",
      "Number of text chunks: 583\n",
      "Setting up the embeddings model...\n",
      "Done\n"
     ]
    }
   ],
   "source": [
    "#if your PC doesn't have graphic card, change configuration from 'cuda' to 'cpu'\n",
    "# Load the pdfs\n",
    "loader = PyPDFDirectoryLoader(directory_path)\n",
    "docs = loader.load()\n",
    "print(f\"Number of source materials: {len(docs)}\")\n",
    "\n",
    "# Split the documents into smaller chunks\n",
    "text_splitter = RecursiveCharacterTextSplitter(chunk_size=500, chunk_overlap=100)\n",
    "chunks = text_splitter.split_documents(docs)\n",
    "print(f\"Number of text chunks: {len(chunks)}\")\n",
    "\n",
    "# Define the embeddings model\n",
    "model_name = \"BAAI/bge-small-en-v1.5\"\n",
    "encode_kwargs = {'normalize_embeddings': True} # set True to compute cosine similarity\n",
    "\n",
    "print(f\"Setting up the embeddings model...\")\n",
    "embeddings = HuggingFaceBgeEmbeddings(\n",
    "    model_name=model_name,\n",
    "    model_kwargs={'device': 'cpu'},\n",
    "    encode_kwargs=encode_kwargs\n",
    ")\n",
    "\n",
    "print(f\"Done\")"
   ]
  },
  {
   "cell_type": "markdown",
   "id": "b4a7545e",
   "metadata": {},
   "source": [
    "# Retrieval: Make the document chunks available via a retriever"
   ]
  },
  {
   "cell_type": "markdown",
   "id": "6b524bdf",
   "metadata": {},
   "source": [
    "# Install FAISS for CPU\n",
    "pip install faiss-cpu"
   ]
  },
  {
   "cell_type": "markdown",
   "id": "831cd0a0",
   "metadata": {},
   "source": [
    "#Verify FAISS Installation\n",
    "import faiss\n",
    "print(\"FAISS version:\", faiss.__version__)\n"
   ]
  },
  {
   "cell_type": "markdown",
   "id": "01bc16fe",
   "metadata": {},
   "source": [
    "The retriever will identify the document chunks that most closely match our original query. (This takes about 1-2 minutes)"
   ]
  },
  {
   "cell_type": "code",
   "execution_count": 11,
   "id": "1048c42a",
   "metadata": {},
   "outputs": [],
   "source": [
    "vectorstore = FAISS.from_documents(chunks, embeddings)\n",
    "retriever = vectorstore.as_retriever(search_kwargs={\"k\": 20})\n",
    "\n",
    "# Retrieve the most relevant context from the vector store based on the query(No Reranking Applied)\n",
    "docs = retriever.get_relevant_documents(query)"
   ]
  },
  {
   "cell_type": "markdown",
   "id": "8fe1690e",
   "metadata": {},
   "source": [
    "Let's see what results it found. Important to note, these results are in the order the retriever thought were the best matches."
   ]
  },
  {
   "cell_type": "code",
   "execution_count": 12,
   "id": "075ede5c",
   "metadata": {
    "scrolled": false
   },
   "outputs": [
    {
     "name": "stdout",
     "output_type": "stream",
     "text": [
      "Document 1:\n",
      "\n",
      "In Danang , the Game industry stands out by o昀昀ering the highest average salary range for IT \n",
      "professionals, reaching 44.5 million dong per month . In Hanoi , the Professional Services sector, \n",
      "including Accounting, Legal, and Business Consultin g, takes the lead with the highest monthly salary \n",
      "at 39.6 million dong . Meanwhile, Ho Chi Minh City  aligns with the country's trend, with Pharmaceuticals\n",
      "----------------------------------------------------------------------------------------------------\n",
      "Document 2:\n",
      "\n",
      "in Danang with more than 5 years of experience has increased from 33% in the previous year's results t o over 50% . The \n",
      "increase in professionals with higher years of experience is likely to have a positive impact on the average salary. \n",
      "In Hanoi and Ho Chi Minh City, the average salaries this year slightly decreased compared to the previous year. In Hanoi, the \n",
      "reduction ratio was 5.5% , while in Ho Chi Minh City, it was 8%. A potential contributing factor to this state was t he 76% increase\n",
      "----------------------------------------------------------------------------------------------------\n",
      "Document 3:\n",
      "\n",
      "(sum of salaries in speciﬁed group) / (amount of respondents) = average salary\n",
      "For instance, average salary of IT professionals in Ho Chi Minh City is:\n",
      "(13 + 18 + 34 + 32 + 54 + 76 + 90 + 34 + 45 + 20) / 10 = 41.6\n",
      "Percentage\n",
      "Percentages may not always equal 100% due to variations in the types of questions \n",
      "and answers. Some questions and answers are altered based on the respondent's \n",
      "previous responses. In some cases, the distribution of answers for certain questions\n",
      "----------------------------------------------------------------------------------------------------\n",
      "Document 4:\n",
      "\n",
      "working environment in Vietnam, the region or the g lobe41.7%\n",
      "41.7%\n",
      "33.3%\n",
      "33.3%\n",
      "33.3%\n",
      "Top 10 Characteristics Of Ideal Company\n",
      "Salary is as expected, or at le ast on a par with the market\n",
      "Leader/Line manager has vision and establish clear di rection\n",
      "100% salary insurance coverage\n",
      "Strong ﬁnancial capability\n",
      "Have a clear development plan/pathway\n",
      "Attractive welfare bene ﬁts for family members, such as insuran ce\n",
      "and education subsidies for children\n",
      "Have a chan ce to get promoted\n",
      "----------------------------------------------------------------------------------------------------\n",
      "Document 5:\n",
      "\n",
      "working environment in Vietnam, the region or the g lobe51.7%\n",
      "48.3%\n",
      "41.4%\n",
      "27.6%\n",
      "27.6%\n",
      "Top 10 Characteristics Of Ideal Company\n",
      "Leader/Line manager has vision and establish clear di rection\n",
      "Acceptable a nnual salary increase rate (5- 10%)\n",
      "Not far from home (< 10km)\n",
      "Attractive welfare bene ﬁts for family members, such as insuran ce\n",
      "and education subsidies for children\n",
      "Strong ﬁnancial capability\n",
      "Salary is as expected, or at le ast on a par with the market\n",
      "----------------------------------------------------------------------------------------------------\n",
      "Document 6:\n",
      "\n",
      "working environment in Vietnam, the region or the g lobe\n",
      "The company provides work-life balance to employ ees45.1%\n",
      "35.3%\n",
      "33.3%\n",
      "31.4%\n",
      "31.4%term employ ees\n",
      "Not far from home (< 10km)\n",
      "100% salary insurance coverage\n",
      "Salary is as expected, or at le ast on a par with the market\n",
      "Friendly, sociable co lleagues\n",
      "Flexible working model, can work from home, no chec k-\n",
      "Strong ﬁnancial capability\n",
      "Leader/Line manager listens we ll and protects the team\n",
      "Acceptable a nnual salary increase rate (5- 10%)\n",
      "----------------------------------------------------------------------------------------------------\n",
      "Document 7:\n",
      "\n",
      "The company has a high proportion of long-\n",
      "The company is on the list of the best IT companies  or has the best \n",
      "working environment in Vietnam, the region or the g lobe\n",
      "The company provides work-life balance to employ ees50.0%\n",
      "50.0%\n",
      "50.0%\n",
      "50.0%\n",
      "50.0%term employ ees\n",
      "Top 10 Characteristics Of Ideal Company\n",
      "Salary is as expected, or at le ast on a par with the market\n",
      "Not far from home (< 1 0km)\n",
      "Leader/Line manager has vision and establish clear di rection\n",
      "100% salary insurance coverage\n",
      "----------------------------------------------------------------------------------------------------\n",
      "Document 8:\n",
      "\n",
      "the nationalities included in the list. On the contrary, the average monthly salaries o昀昀ered by companies \n",
      "originating from Vietnam and Japan  are the most moderate, equal to 30.1 million dong  and 32.7 \n",
      "million dong , respectively. Companies with origins from Europe, the United States, and Canada  o昀昀er \n",
      "a monthly salary range from 45.7 to 46.7 million dong . (page 28)IT companies with origins from \n",
      "Australia and New Zealand o昀昀er highest salaries.\n",
      "7\n",
      "----------------------------------------------------------------------------------------------------\n",
      "Document 9:\n",
      "\n",
      "working environment in Vietnam, the region or the globe47.1%\n",
      "41.2%\n",
      "41.2%\n",
      "35.3%\n",
      "29.4%term employ ees\n",
      "Flexible working model, can work from home, no chec k-in required\n",
      "Salary is as expected, or at le ast on a par with the market\n",
      "100% salary insurance coverage\n",
      "Not far from home (< 10km)\n",
      "Project based bonus\n",
      "Leader/Line manager has vision and establish clear di rection\n",
      "Friendly, sociable co lleagues\n",
      "Have a clear development plan/pathway\n",
      "US and Canada\n",
      "Providing Macb ook/iMac56.5%\n",
      "50.0%\n",
      "45.7%\n",
      "45.7%\n",
      "----------------------------------------------------------------------------------------------------\n",
      "Document 10:\n",
      "\n",
      "IT SALARY REPORT\n",
      "ITviec | Salary & Job Expectation Of IT Professionals 2023 - 2024 27\n",
      "AVERAGE SALA RY BY CITY\n",
      "34,400,000 VND AVERAGE SALARY BY COUNTRYHA NOI\n",
      "32,400,000 VND ( -5.8% )\n",
      "HO CHI MINH \n",
      "35,700,000 VND ( 3.8%)DA NANG\n",
      "29,400,000 VND ( -14.5% )\n",
      "31,300,000 VND ( -9.0% )OTHERS\n",
      "AVERAGE SALA RY BY CITY WITH GROWTH RATE\n",
      "Da Nang\n",
      "Ha Noi\n",
      "Ho Chi Minh City\n",
      "Others\n",
      "Country29,400,000\n",
      "32,400,000\n",
      "35,700,000\n",
      "31,300,000\n",
      "34,400,00027,600,000\n",
      "34,300,000\n",
      "38,800,000\n",
      "29,000,000\n",
      "32,400,0006.5%\n",
      "-5.5%\n",
      "-8.0%\n",
      "7.9%\n",
      "----------------------------------------------------------------------------------------------------\n",
      "Document 11:\n",
      "\n",
      "IT SALARY REPORT\n",
      "ITviec | Salary & Job Expectation Of IT Professionals 2023 - 2024 123\n",
      "City Age\n",
      "28.2%65.9%\n",
      "3.4% 2.5%\n",
      "Ha Noi Ho Chi Minh Da Nang OthersThis year's study showed a slightly higher percenta ge of \n",
      "participants from Hanoi compared to last year's (about 2% \n",
      "more) . Ho Chi Minh City  remained the most appealing \n",
      "location in Vietnam for IT professionals (65.9%) .The age range of the IT professionals in this year' s report is \n",
      "from under 20 to above 35. One-third  of them are between\n",
      "----------------------------------------------------------------------------------------------------\n",
      "Document 12:\n",
      "\n",
      "The company has foreign owners\n",
      "The company provides work-life balance to employees\n",
      "The company is on the list of the best IT companies  or has the best \n",
      "working environment in Vietnam, the region or the g lobe\n",
      "The company is a leader in the industry or region\n",
      "The company is highly appreciated and encouraged to  apply\n",
      "by many people (friends, relatives...)66.7%\n",
      "66.7%\n",
      "44.4%\n",
      "33.3%\n",
      "33.3%\n",
      "Top 10 Characteristics Of Ideal Company\n",
      "Acceptable a nnual salary increase rate (5- 10%)\n",
      "----------------------------------------------------------------------------------------------------\n",
      "Document 13:\n",
      "\n",
      "The company has rapid reven ue and pro ﬁt growth (>3 0%) each year\n",
      "The company provides work-life balance to employ ees\n",
      "The company is on the list of the best IT companies  or has the best \n",
      "working environment in Vietnam, the region or the g lobe\n",
      "The company receives many positive reviews from emp loyees43.4%\n",
      "40.3%\n",
      "32.6%\n",
      "31.8%\n",
      "23.3%\n",
      "Top 10 Characteristics Of Ideal Company\n",
      "Salary is as expected, or at le ast on a par with the market\n",
      "Not far from home (<1 0km)\n",
      "----------------------------------------------------------------------------------------------------\n",
      "Document 14:\n",
      "\n",
      "The company has a large number of employ ees (>500 employ ees)\n",
      "The company has a high proportion of long-term empl oyees\n",
      "The company is on the list of the best IT companies  or has the best \n",
      "working environment in Vietnam, the region or the g lobe\n",
      "The company provides work-life balance to employ ees47.4%\n",
      "38.2%\n",
      "36.8%\n",
      "31.6%\n",
      "25.0%\n",
      "Top 10 Characteristics Of Ideal Company\n",
      "Salary is as expected, or at le ast on a par with the market\n",
      "Not far from home (< 10km)\n",
      "----------------------------------------------------------------------------------------------------\n",
      "Document 15:\n",
      "\n",
      "Company background, \n",
      "domain, and history\n",
      "Current job openings70.9%\n",
      "69.1%\n",
      "52.7%\n",
      "43.6%\n",
      "14.5%\n",
      "The company has g ood and experienced leaders\n",
      "The company has foreign owners\n",
      "The company has a large number of employ ees (>500 employ ees)\n",
      "The company has a high proportion of long-term empl oyees\n",
      "The company is on the list of the best IT companies  or has the best \n",
      "working environment in Vietnam, the region or the g lobe40.9%\n",
      "36.4%\n",
      "36.4%\n",
      "27.3%\n",
      "27.3%\n",
      "Top 10 Characteristics Of Ideal Company\n",
      "----------------------------------------------------------------------------------------------------\n",
      "Document 16:\n",
      "\n",
      "EMPLOYEE \n",
      "WELFARE\n",
      "BENEFITS100% salary insurance coverage\n",
      "Project based bonus\n",
      "Attractive welfare bene ﬁts for family\n",
      "members, such as insurance and\n",
      "education subsidies f or children\n",
      "COMPANY \n",
      "ORIGINEurope\n",
      "US and Canada\n",
      "Viet Nam\n",
      "LOCATIONNot far from home (< 10km)\n",
      "Central districts\n",
      "SALARYSalary is as expected, or at least\n",
      "on a par with the market\n",
      "Acceptable annual salary \n",
      "increase rate (5- 10%)\n",
      "ITviec | Salary & Job Expectation Of IT Professionals 2023 - 2024 123IT SALARY REPORT\n",
      "19\n",
      "----------------------------------------------------------------------------------------------------\n",
      "Document 17:\n",
      "\n",
      "20.0% Work remotely (Fu lly remote)Employ ee reviews and\n",
      "ratings\n",
      "Bene ﬁts and perks o 昀昀ered\n",
      "Company's prod uct\n",
      "Company background,\n",
      "domain, and history\n",
      "Current job openings86.4%\n",
      "68.2%\n",
      "40.9%\n",
      "36.4%\n",
      "27.3%\n",
      "The company is on the list of the best IT companies  or has the \n",
      "best working environment in Vietnam, the region or the gl obe\n",
      "The company has rapid reven ue and pro ﬁt growth (>30%)\n",
      "each year\n",
      "The company has g ood and experienced leaders\n",
      "The company has foreign owners\n",
      "----------------------------------------------------------------------------------------------------\n",
      "Document 18:\n",
      "\n",
      "Company background, \n",
      "domain, and history\n",
      "Current job openings77.4%\n",
      "73.8%\n",
      "44.0%\n",
      "32.1%\n",
      "27.4%\n",
      "The company is on the list of the best IT companies  or has the best \n",
      "working environment in Vietnam, the region or the g lobe\n",
      "The company provides work-life balance to employ ees\n",
      "The company has rapid reven ue and pro ﬁt growth (>30%) each year\n",
      "The company has a high proportion of long- term empl oyees\n",
      "The company has a large number of employ ees (>500 employ ees)40.0%\n",
      "37.5%\n",
      "35.0%\n",
      "30.0%\n",
      "27.5%\n",
      "----------------------------------------------------------------------------------------------------\n",
      "Document 19:\n",
      "\n",
      "37.0%I want to work for companies having \n",
      "positive employer reputation/r ecruitment \n",
      "brand\n",
      "34.8%I am impre ssed by the bene ﬁts in the j ob \n",
      "description\n",
      "The company provides work-life balance to employ ees\n",
      "The company has foreign owners\n",
      "The company has a high proportion of long-\n",
      "The company receives many positive reviews from emp loyees\n",
      "The company is on the list of the best IT companies  or has the best \n",
      "working environment in Vietnam, the region or the globe47.1%\n",
      "41.2%\n",
      "41.2%\n",
      "35.3%\n",
      "----------------------------------------------------------------------------------------------------\n",
      "Document 20:\n",
      "\n",
      "The company has rapid reven ue and pro ﬁt growth (>30%) each year\n",
      "The company is on the list of the best IT companies  or has the best \n",
      "working environment in Vietnam, the region or the g lobe\n",
      "The company has a high proportion of long-\n",
      "The company provides work-life balance to employees43.5%\n",
      "40.6%\n",
      "34.8%\n",
      "30.4%\n",
      "29.0%term employ eesEmploy ee reviews and \n",
      "ratings\n",
      "Beneﬁts and perks o 昀昀ered\n",
      "Company background,  \n",
      "domain, and history\n",
      "Company's prod uct\n",
      "Current job openings76.2%\n",
      "68.0%\n",
      "40.2%\n",
      "35.2%\n"
     ]
    }
   ],
   "source": [
    "pretty_print_docs(docs)"
   ]
  },
  {
   "cell_type": "markdown",
   "id": "3008507b",
   "metadata": {},
   "source": [
    "These results seem to somewhat match our original query, but we still can't seem to find the information we're looking for. Let's try sending our LLM query again including these results, and see what it comes up with."
   ]
  },
  {
   "cell_type": "code",
   "execution_count": 16,
   "id": "a39da03e",
   "metadata": {},
   "outputs": [
    {
     "name": "stdout",
     "output_type": "stream",
     "text": [
      "Sending the RAG generation with query: What is a salary in Vietnam?\n"
     ]
    },
    {
     "ename": "NameError",
     "evalue": "name 'llm' is not defined",
     "output_type": "error",
     "traceback": [
      "\u001b[1;31m---------------------------------------------------------------------------\u001b[0m",
      "\u001b[1;31mNameError\u001b[0m                                 Traceback (most recent call last)",
      "Cell \u001b[1;32mIn[16], line 2\u001b[0m\n\u001b[0;32m      1\u001b[0m \u001b[38;5;28mprint\u001b[39m(\u001b[38;5;124mf\u001b[39m\u001b[38;5;124m\"\u001b[39m\u001b[38;5;124mSending the RAG generation with query: \u001b[39m\u001b[38;5;132;01m{\u001b[39;00mquery\u001b[38;5;132;01m}\u001b[39;00m\u001b[38;5;124m\"\u001b[39m)\n\u001b[1;32m----> 2\u001b[0m qa \u001b[38;5;241m=\u001b[39m RetrievalQA\u001b[38;5;241m.\u001b[39mfrom_chain_type(llm\u001b[38;5;241m=\u001b[39mllm,\n\u001b[0;32m      3\u001b[0m         chain_type\u001b[38;5;241m=\u001b[39m\u001b[38;5;124m\"\u001b[39m\u001b[38;5;124mstuff\u001b[39m\u001b[38;5;124m\"\u001b[39m,\n\u001b[0;32m      4\u001b[0m         retriever\u001b[38;5;241m=\u001b[39mretriever)\n\u001b[0;32m      5\u001b[0m \u001b[38;5;28mprint\u001b[39m(\u001b[38;5;124mf\u001b[39m\u001b[38;5;124m\"\u001b[39m\u001b[38;5;124mResult:\u001b[39m\u001b[38;5;130;01m\\n\u001b[39;00m\u001b[38;5;130;01m\\n\u001b[39;00m\u001b[38;5;132;01m{\u001b[39;00mqa\u001b[38;5;241m.\u001b[39mrun(query\u001b[38;5;241m=\u001b[39mquery)\u001b[38;5;132;01m}\u001b[39;00m\u001b[38;5;124m\"\u001b[39m)\n",
      "\u001b[1;31mNameError\u001b[0m: name 'llm' is not defined"
     ]
    }
   ],
   "source": [
    "print(f\"Sending the RAG generation with query: {query}\")\n",
    "qa = RetrievalQA.from_chain_type(llm=llm,\n",
    "        chain_type=\"stuff\",\n",
    "        retriever=retriever)\n",
    "print(f\"Result:\\n\\n{qa.run(query=query)}\") "
   ]
  },
  {
   "cell_type": "code",
   "execution_count": null,
   "id": "3d5565a4",
   "metadata": {},
   "outputs": [],
   "source": []
  },
  {
   "cell_type": "markdown",
   "id": "6ea847fe",
   "metadata": {},
   "source": [
    "# Reranking: Improve the ordering of the document chunks"
   ]
  },
  {
   "cell_type": "code",
   "execution_count": null,
   "id": "24dd59e8",
   "metadata": {},
   "outputs": [],
   "source": [
    "compressor = CohereRerank()\n",
    "compression_retriever = ContextualCompressionRetriever(\n",
    "    base_compressor=compressor, base_retriever=retriever\n",
    ")\n",
    "compressed_docs = compression_retriever.get_relevant_documents(query)"
   ]
  },
  {
   "cell_type": "markdown",
   "id": "dc20a66b",
   "metadata": {},
   "source": [
    "Now let's see what the reranked results look like:"
   ]
  },
  {
   "cell_type": "code",
   "execution_count": null,
   "id": "961dda63",
   "metadata": {},
   "outputs": [],
   "source": [
    "pretty_print_docs(compressed_docs)"
   ]
  },
  {
   "cell_type": "markdown",
   "id": "fef217bc",
   "metadata": {},
   "source": [
    "Lastly, let's run our LLM query a final time with the reranked results:"
   ]
  },
  {
   "cell_type": "markdown",
   "id": "9e1ed806",
   "metadata": {},
   "source": [
    "qa = RetrievalQA.from_chain_type(llm=llm,\n",
    "        chain_type=\"stuff\",\n",
    "        retriever=compression_retriever)\n",
    "\n",
    "print(f\"Result:\\n\\n {qa.run(query=query)}\")"
   ]
  }
 ],
 "metadata": {
  "kernelspec": {
   "display_name": "Python 3 (ipykernel)",
   "language": "python",
   "name": "python3"
  },
  "language_info": {
   "codemirror_mode": {
    "name": "ipython",
    "version": 3
   },
   "file_extension": ".py",
   "mimetype": "text/x-python",
   "name": "python",
   "nbconvert_exporter": "python",
   "pygments_lexer": "ipython3",
   "version": "3.11.8"
  }
 },
 "nbformat": 4,
 "nbformat_minor": 5
}
